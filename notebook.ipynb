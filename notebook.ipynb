{
 "metadata": {
  "language_info": {
   "codemirror_mode": {
    "name": "ipython",
    "version": 3
   },
   "file_extension": ".py",
   "mimetype": "text/x-python",
   "name": "python",
   "nbconvert_exporter": "python",
   "pygments_lexer": "ipython3",
   "version": "3.8.5-final"
  },
  "orig_nbformat": 2,
  "kernelspec": {
   "name": "Python 3.8.5 64-bit ('venv')",
   "display_name": "Python 3.8.5 64-bit ('venv')",
   "metadata": {
    "interpreter": {
     "hash": "781892a01e385ce4948e4be5f57b963bb324cf6de44663443ead429df49b1e4e"
    }
   }
  }
 },
 "nbformat": 4,
 "nbformat_minor": 2,
 "cells": [
  {
   "cell_type": "code",
   "execution_count": 3,
   "metadata": {
    "tags": []
   },
   "outputs": [],
   "source": [
    "from binance.client import Client\n",
    "import pandas as pd\n",
    "import json\n",
    "import numpy as np\n",
    "# from sklearn.linear_model import LinearRegression"
   ]
  },
  {
   "cell_type": "code",
   "execution_count": 4,
   "metadata": {
    "tags": []
   },
   "outputs": [
    {
     "output_type": "stream",
     "name": "stdout",
     "text": "correct password\n"
    }
   ],
   "source": [
    "from security import get_keys\n",
    "binance_key = get_keys('client')\n",
    "client = Client(binance_key['api_key'], binance_key['api_secret'])"
   ]
  },
  {
   "cell_type": "code",
   "execution_count": 263,
   "metadata": {},
   "outputs": [
    {
     "output_type": "execute_result",
     "data": {
      "text/plain": "                         date     price\n0     2020-09-27 21:00:20.504  10721.66\n1     2020-09-27 21:00:21.476  10721.27\n2     2020-09-27 21:00:22.502  10721.27\n3     2020-09-27 21:00:23.329  10721.27\n4     2020-09-27 21:00:24.466  10720.87\n...                       ...       ...\n16020 2020-09-28 14:38:30.295  10879.20\n16021 2020-09-28 14:38:31.292  10879.19\n16022 2020-09-28 14:38:32.265  10879.20\n16023 2020-09-28 14:38:33.301  10879.20\n16024 2020-09-28 14:38:34.296  10879.12\n\n[16025 rows x 2 columns]",
      "text/html": "<div>\n<style scoped>\n    .dataframe tbody tr th:only-of-type {\n        vertical-align: middle;\n    }\n\n    .dataframe tbody tr th {\n        vertical-align: top;\n    }\n\n    .dataframe thead th {\n        text-align: right;\n    }\n</style>\n<table border=\"1\" class=\"dataframe\">\n  <thead>\n    <tr style=\"text-align: right;\">\n      <th></th>\n      <th>date</th>\n      <th>price</th>\n    </tr>\n  </thead>\n  <tbody>\n    <tr>\n      <th>0</th>\n      <td>2020-09-27 21:00:20.504</td>\n      <td>10721.66</td>\n    </tr>\n    <tr>\n      <th>1</th>\n      <td>2020-09-27 21:00:21.476</td>\n      <td>10721.27</td>\n    </tr>\n    <tr>\n      <th>2</th>\n      <td>2020-09-27 21:00:22.502</td>\n      <td>10721.27</td>\n    </tr>\n    <tr>\n      <th>3</th>\n      <td>2020-09-27 21:00:23.329</td>\n      <td>10721.27</td>\n    </tr>\n    <tr>\n      <th>4</th>\n      <td>2020-09-27 21:00:24.466</td>\n      <td>10720.87</td>\n    </tr>\n    <tr>\n      <th>...</th>\n      <td>...</td>\n      <td>...</td>\n    </tr>\n    <tr>\n      <th>16020</th>\n      <td>2020-09-28 14:38:30.295</td>\n      <td>10879.20</td>\n    </tr>\n    <tr>\n      <th>16021</th>\n      <td>2020-09-28 14:38:31.292</td>\n      <td>10879.19</td>\n    </tr>\n    <tr>\n      <th>16022</th>\n      <td>2020-09-28 14:38:32.265</td>\n      <td>10879.20</td>\n    </tr>\n    <tr>\n      <th>16023</th>\n      <td>2020-09-28 14:38:33.301</td>\n      <td>10879.20</td>\n    </tr>\n    <tr>\n      <th>16024</th>\n      <td>2020-09-28 14:38:34.296</td>\n      <td>10879.12</td>\n    </tr>\n  </tbody>\n</table>\n<p>16025 rows × 2 columns</p>\n</div>"
     },
     "metadata": {},
     "execution_count": 263
    }
   ],
   "source": [
    "data = pd.read_csv(\"BTCUSDT.csv\", header=None, usecols=[2,8])\n",
    "data = data.rename(columns={2: \"date\", 8: \"price\"})\n",
    "data.date = pd.to_datetime(data.date, unit='ms')\n",
    "data"
   ]
  },
  {
   "cell_type": "code",
   "execution_count": 278,
   "metadata": {},
   "outputs": [],
   "source": [
    "csvdata = pd.read_csv(\"BTCUSDT.csv\", header=None, usecols=[2,8])\n",
    "csvdata = csvdata.rename(columns={2: \"date\", 8: \"price\"})\n",
    "csvdata.date = pd.to_datetime(csvdata.date, unit='ms')"
   ]
  },
  {
   "cell_type": "code",
   "execution_count": 279,
   "metadata": {},
   "outputs": [],
   "source": [
    "price = {'BTCUSDT': csvdata, 'error':False}"
   ]
  },
  {
   "source": [
    "def MA(sec):\n",
    "\tdf = price['BTCUSDT']\n",
    "\tstart_time = df.date.iloc[-1] - pd.Timedelta(seconds=sec)\n",
    "\tdf = df.loc[df.date >= start_time]\n",
    "\treturn df.price.mean()"
   ],
   "cell_type": "code",
   "metadata": {
    "tags": []
   },
   "execution_count": 282,
   "outputs": []
  },
  {
   "cell_type": "code",
   "execution_count": 13,
   "metadata": {
    "tags": []
   },
   "outputs": [
    {
     "output_type": "stream",
     "name": "stdout",
     "text": "10903.69\n10908.35\n10911.61\n10912.4\n10913.28\n10913.49\n10913.49\n10913.49\n10913.49\n10913.49\n"
    }
   ],
   "source": [
    "for x in range(10):\n",
    "    print(MA(x*30))"
   ]
  },
  {
   "cell_type": "code",
   "execution_count": 280,
   "metadata": {
    "tags": []
   },
   "outputs": [
    {
     "output_type": "stream",
     "name": "stdout",
     "text": "-0.07237538915328967 %\n"
    }
   ],
   "source": [
    "x = MA(30) / MA(900)\n",
    "x -= 1.0\n",
    "x *= 100.0\n",
    "print(x, '%')"
   ]
  },
  {
   "cell_type": "code",
   "execution_count": 213,
   "metadata": {},
   "outputs": [],
   "source": [
    "def buyAmount(coin, pair):\n",
    "    balanceBuy = float(client.get_asset_balance(coin,\n",
    "    recvWindow=10000)['free'])\n",
    "    close = float(client.get_symbol_ticker(symbol=pair)['price'])\n",
    "    maxBuy = round(balanceBuy / close * .995, 5)\n",
    "    return maxBuy\n",
    "    \n",
    "def sellAmount(coin):\n",
    "    balanceSell = float(client.get_asset_balance(coin,\n",
    "    recvWindow=10000)['free'])\n",
    "    maxSell = round(balanceSell * .995, 5)\n",
    "    return maxSell"
   ]
  },
  {
   "cell_type": "code",
   "execution_count": 297,
   "metadata": {},
   "outputs": [
    {
     "output_type": "execute_result",
     "data": {
      "text/plain": "0.0043"
     },
     "metadata": {},
     "execution_count": 297
    }
   ],
   "source": [
    "buyAmount('USDT', 'BTCUSDT')"
   ]
  },
  {
   "cell_type": "code",
   "execution_count": 296,
   "metadata": {},
   "outputs": [
    {
     "output_type": "execute_result",
     "data": {
      "text/plain": "2e-05"
     },
     "metadata": {},
     "execution_count": 296
    }
   ],
   "source": [
    "sellAmount('BTC')"
   ]
  },
  {
   "cell_type": "code",
   "execution_count": 299,
   "metadata": {},
   "outputs": [
    {
     "output_type": "execute_result",
     "data": {
      "text/plain": "{}"
     },
     "metadata": {},
     "execution_count": 299
    }
   ],
   "source": [
    "maxbuy = buyAmount('USDT', 'BTCUSDT')\n",
    "client.create_test_order(symbol='BTCUSDT', side='BUY', type='MARKET', quantity=0.00434)"
   ]
  },
  {
   "cell_type": "code",
   "execution_count": 304,
   "metadata": {},
   "outputs": [
    {
     "output_type": "execute_result",
     "data": {
      "text/plain": "{}"
     },
     "metadata": {},
     "execution_count": 304
    }
   ],
   "source": [
    "maxsell = sellAmount('BTC')\n",
    "client.create_test_order(symbol='BTCUSDT', side='SELL', type='MARKET', quantity=0.00434)"
   ]
  },
  {
   "cell_type": "code",
   "execution_count": 307,
   "metadata": {},
   "outputs": [
    {
     "output_type": "execute_result",
     "data": {
      "text/plain": "{'symbol': 'BTCUSDT',\n 'orderId': 3293382693,\n 'orderListId': -1,\n 'clientOrderId': 'ReO8ipT9hhGfo0ZrDd9UtS',\n 'transactTime': 1601327744874,\n 'price': '0.00000000',\n 'origQty': '0.00431000',\n 'executedQty': '0.00431000',\n 'cummulativeQuoteQty': '46.77522320',\n 'status': 'FILLED',\n 'timeInForce': 'GTC',\n 'type': 'MARKET',\n 'side': 'BUY',\n 'fills': [{'price': '10852.72000000',\n   'qty': '0.00431000',\n   'commission': '0.00127469',\n   'commissionAsset': 'BNB',\n   'tradeId': 424641742}]}"
     },
     "metadata": {},
     "execution_count": 307
    }
   ],
   "source": [
    "maxbuy = buyAmount('USDT', 'BTCUSDT')\n",
    "client.create_order(symbol='BTCUSDT', side='BUY', type='MARKET', quantity=0.00433)"
   ]
  },
  {
   "cell_type": "code",
   "execution_count": 308,
   "metadata": {},
   "outputs": [
    {
     "output_type": "execute_result",
     "data": {
      "text/plain": "{'symbol': 'BTCUSDT',\n 'orderId': 3293383469,\n 'orderListId': -1,\n 'clientOrderId': 'kTm4cgNS4Z6k8f0nHfcgUC',\n 'transactTime': 1601327771740,\n 'price': '0.00000000',\n 'origQty': '0.00433000',\n 'executedQty': '0.00433000',\n 'cummulativeQuoteQty': '46.99180130',\n 'status': 'FILLED',\n 'timeInForce': 'GTC',\n 'type': 'MARKET',\n 'side': 'SELL',\n 'fills': [{'price': '10852.61000000',\n   'qty': '0.00433000',\n   'commission': '0.00128028',\n   'commissionAsset': 'BNB',\n   'tradeId': 424641815}]}"
     },
     "metadata": {},
     "execution_count": 308
    }
   ],
   "source": [
    "maxsell = sellAmount('BTC')\n",
    "client.create_order(symbol='BTCUSDT', side='SELL', type='MARKET', quantity=0.00433)"
   ]
  },
  {
   "cell_type": "code",
   "execution_count": null,
   "metadata": {},
   "outputs": [],
   "source": []
  }
 ]
}