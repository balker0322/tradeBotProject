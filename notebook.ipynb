{
 "metadata": {
  "language_info": {
   "codemirror_mode": {
    "name": "ipython",
    "version": 3
   },
   "file_extension": ".py",
   "mimetype": "text/x-python",
   "name": "python",
   "nbconvert_exporter": "python",
   "pygments_lexer": "ipython3",
   "version": "3.6.5-final"
  },
  "orig_nbformat": 2,
  "kernelspec": {
   "name": "Python 3.6.5 64-bit",
   "display_name": "Python 3.6.5 64-bit",
   "metadata": {
    "interpreter": {
     "hash": "2554e3954a55011ec49b9ed6ab087f3d10e15c744110fb59f3cc88c1f24fb9b6"
    }
   }
  }
 },
 "nbformat": 4,
 "nbformat_minor": 2,
 "cells": [
  {
   "cell_type": "code",
   "execution_count": 4,
   "metadata": {
    "tags": []
   },
   "outputs": [],
   "source": [
    "from binance.client import Client\n",
    "import pandas as pd\n",
    "import json\n",
    "import numpy as np\n",
    "from sklearn.linear_model import LinearRegression"
   ]
  },
  {
   "cell_type": "code",
   "execution_count": 5,
   "metadata": {
    "tags": []
   },
   "outputs": [
    {
     "output_type": "stream",
     "name": "stdout",
     "text": "correct password\n"
    }
   ],
   "source": [
    "from security import get_keys\n",
    "binance_key = get_keys('client')\n",
    "client = Client(binance_key['api_key'], binance_key['api_secret'])"
   ]
  },
  {
   "cell_type": "code",
   "execution_count": 6,
   "metadata": {},
   "outputs": [],
   "source": [
    "pair = 'BTCUSDT'\n",
    "min_num = 1\n",
    "data = client.get_historical_klines(pair, client.KLINE_INTERVAL_1MINUTE, str(min_num) + \" min ago UTC\")\n",
    "disp = pd.DataFrame(data, columns = ['Open time',\n",
    "                                                'Open',\n",
    "                                                'High',\n",
    "                                                'Low',\n",
    "                                                'Close',\n",
    "                                                'Volume',\n",
    "                                                'Close time',\n",
    "                                                'Quote asset volume',\n",
    "                                                'Number of trades',\n",
    "                                                'Taker buy base asset volume',\n",
    "                                                'Taker buy quote asset volume',\n",
    "                                                'Can be ignored',])\n",
    "disp.set_index('Open')\n",
    "# disp.to_csv('my_csv.csv', mode='a', header=False)\n",
    "disp.to_csv('my_csv.csv')#, mode='a', header=False)"
   ]
  },
  {
   "cell_type": "code",
   "execution_count": 7,
   "metadata": {},
   "outputs": [],
   "source": [
    "pair = 'BTCUSDT'\n",
    "min_num = 1\n",
    "disp = pd.DataFrame(columns=['date', 'price'])"
   ]
  },
  {
   "cell_type": "code",
   "execution_count": 22,
   "metadata": {},
   "outputs": [
    {
     "output_type": "execute_result",
     "data": {
      "text/plain": "                         date     price\n0  2020-09-27 13:35:45.806092  10785.69\n1  2020-09-27 13:35:48.130675  10785.43\n2  2020-09-27 13:35:48.913923  10785.43\n3  2020-09-27 13:35:51.374766  10784.98\n4  2020-09-27 13:35:52.199477  10784.97\n5  2020-09-27 13:35:52.673716  10784.97\n6  2020-09-27 13:35:53.385223  10784.98\n7  2020-09-27 13:35:53.890729  10784.98\n8  2020-09-27 13:35:54.668747  10784.97\n9  2020-09-27 13:35:54.895925  10784.97\n10 2020-09-27 13:35:55.327312  10784.98\n11 2020-09-27 13:35:55.541409  10784.98\n12 2020-09-27 13:35:55.763360  10784.98\n13 2020-09-27 13:35:55.968639  10784.98\n14 2020-09-27 13:35:58.586578  10784.59",
      "text/html": "<div>\n<style scoped>\n    .dataframe tbody tr th:only-of-type {\n        vertical-align: middle;\n    }\n\n    .dataframe tbody tr th {\n        vertical-align: top;\n    }\n\n    .dataframe thead th {\n        text-align: right;\n    }\n</style>\n<table border=\"1\" class=\"dataframe\">\n  <thead>\n    <tr style=\"text-align: right;\">\n      <th></th>\n      <th>date</th>\n      <th>price</th>\n    </tr>\n  </thead>\n  <tbody>\n    <tr>\n      <th>0</th>\n      <td>2020-09-27 13:35:45.806092</td>\n      <td>10785.69</td>\n    </tr>\n    <tr>\n      <th>1</th>\n      <td>2020-09-27 13:35:48.130675</td>\n      <td>10785.43</td>\n    </tr>\n    <tr>\n      <th>2</th>\n      <td>2020-09-27 13:35:48.913923</td>\n      <td>10785.43</td>\n    </tr>\n    <tr>\n      <th>3</th>\n      <td>2020-09-27 13:35:51.374766</td>\n      <td>10784.98</td>\n    </tr>\n    <tr>\n      <th>4</th>\n      <td>2020-09-27 13:35:52.199477</td>\n      <td>10784.97</td>\n    </tr>\n    <tr>\n      <th>5</th>\n      <td>2020-09-27 13:35:52.673716</td>\n      <td>10784.97</td>\n    </tr>\n    <tr>\n      <th>6</th>\n      <td>2020-09-27 13:35:53.385223</td>\n      <td>10784.98</td>\n    </tr>\n    <tr>\n      <th>7</th>\n      <td>2020-09-27 13:35:53.890729</td>\n      <td>10784.98</td>\n    </tr>\n    <tr>\n      <th>8</th>\n      <td>2020-09-27 13:35:54.668747</td>\n      <td>10784.97</td>\n    </tr>\n    <tr>\n      <th>9</th>\n      <td>2020-09-27 13:35:54.895925</td>\n      <td>10784.97</td>\n    </tr>\n    <tr>\n      <th>10</th>\n      <td>2020-09-27 13:35:55.327312</td>\n      <td>10784.98</td>\n    </tr>\n    <tr>\n      <th>11</th>\n      <td>2020-09-27 13:35:55.541409</td>\n      <td>10784.98</td>\n    </tr>\n    <tr>\n      <th>12</th>\n      <td>2020-09-27 13:35:55.763360</td>\n      <td>10784.98</td>\n    </tr>\n    <tr>\n      <th>13</th>\n      <td>2020-09-27 13:35:55.968639</td>\n      <td>10784.98</td>\n    </tr>\n    <tr>\n      <th>14</th>\n      <td>2020-09-27 13:35:58.586578</td>\n      <td>10784.59</td>\n    </tr>\n  </tbody>\n</table>\n</div>"
     },
     "metadata": {},
     "execution_count": 22
    }
   ],
   "source": [
    "data = client.get_historical_klines(pair, client.KLINE_INTERVAL_1MINUTE, str(min_num) + \" min ago UTC\")\n",
    "dateStamp = pd.Timestamp.now()\n",
    "disp.loc[len(disp)] = [dateStamp, float(data[0][4])]\n",
    "disp"
   ]
  },
  {
   "cell_type": "code",
   "execution_count": 39,
   "metadata": {
    "tags": []
   },
   "outputs": [
    {
     "output_type": "execute_result",
     "data": {
      "text/plain": "array([-8.60376265e-11])"
     },
     "metadata": {},
     "execution_count": 39
    }
   ],
   "source": [
    "df = disp\n",
    "\n",
    "start_time = df.date.iloc[-1] - pd.Timedelta(seconds=5)\n",
    "df_a = df.loc[df.date >= start_time]\n",
    "y = np.array(df_a.price)\n",
    "# x = np.linspace(0.0, float(4) - 1.0, num = 4).reshape((-1, 1))\n",
    "# y\n",
    "# slope\n",
    "df_a['date']\n",
    "q = pd.to_numeric(df_a['date'])\n",
    "x = np.array(q).reshape(-1, 1)\n",
    "y = np.array(df_a.price)\n",
    "slope = LinearRegression().fit(x, y).coef_\n",
    "slope\n"
   ]
  },
  {
   "cell_type": "code",
   "execution_count": 30,
   "metadata": {},
   "outputs": [
    {
     "output_type": "error",
     "ename": "SyntaxError",
     "evalue": "invalid syntax (<ipython-input-30-2f7fccd5ef6c>, line 9)",
     "traceback": [
      "\u001b[1;36m  File \u001b[1;32m\"<ipython-input-30-2f7fccd5ef6c>\"\u001b[1;36m, line \u001b[1;32m9\u001b[0m\n\u001b[1;33m    slope = LinearRegression().fit(x, y).coef_\u001b[0m\n\u001b[1;37m        ^\u001b[0m\n\u001b[1;31mSyntaxError\u001b[0m\u001b[1;31m:\u001b[0m invalid syntax\n"
     ]
    }
   ],
   "source": [
    "df = disp\n",
    "\n",
    "start_time = df.date.iloc[-1] - pd.Timedelta(seconds=5)\n",
    "df_a = df.loc[df.date >= start_time]\n",
    "y = np.array(df_a.price)\n",
    "x = np.array(df_a['date']).reshape(-1, 1)\n",
    "# x = np.linspace(0.0, float(4) - 1.0, num = 4).reshape((-1, 1))\n",
    "# y\n",
    "slope = LinearRegression().fit(x, y).coef_\n",
    "slope\n",
    "np.array(df_a['date']).reshape(-1, 1)\n",
    "# y"
   ]
  },
  {
   "cell_type": "code",
   "execution_count": null,
   "metadata": {},
   "outputs": [],
   "source": [
    "all_symbol_ticker = pd.DataFrame(client.get_symbol_ticker())\n",
    "all_balances = pd.DataFrame(client.get_account()['balances'])"
   ]
  },
  {
   "cell_type": "code",
   "execution_count": 93,
   "metadata": {},
   "outputs": [],
   "source": [
    "def printAsset():\n",
    "    BTC = client.get_asset_balance('BTC', recvWindow=10000)['free']\n",
    "    USDT = client.get_asset_balance('USDT', recvWindow=10000)['free']\n",
    "    print('BTC', BTC)\n",
    "    print('USDT', USDT)\n",
    "    print('PHP', float(USDT)*50.0)"
   ]
  },
  {
   "cell_type": "code",
   "execution_count": 96,
   "metadata": {
    "tags": []
   },
   "outputs": [
    {
     "output_type": "stream",
     "name": "stdout",
     "text": "BTC 0.00000000\nUSDT 46.68062465\nPHP 2334.0312325\n"
    }
   ],
   "source": [
    "printAsset()"
   ]
  },
  {
   "cell_type": "code",
   "execution_count": null,
   "metadata": {},
   "outputs": [],
   "source": [
    "symbols = ['USDT', 'BTC', 'ETH', 'XRP']\n",
    "expected_pairs = []\n",
    "for sym1 in symbols:\n",
    "    for sym2 in symbols:\n",
    "        if sym1 == sym2:\n",
    "            continue\n",
    "        expected_pairs.append(sym1 + sym2)\n",
    "pairs = [x for x in all_symbol_ticker['symbol'] if x in expected_pairs]\n",
    "pairs"
   ]
  },
  {
   "cell_type": "code",
   "execution_count": null,
   "metadata": {
    "tags": []
   },
   "outputs": [],
   "source": [
    "def show_average(min_num):\n",
    "    for pair in pairs:\n",
    "        if 'USDT' in pair:\n",
    "            data = client.get_historical_klines(pair, client.KLINE_INTERVAL_1MINUTE, str(min_num) + \" min ago UTC\")\n",
    "            disp = pd.DataFrame(data, columns = ['Open time',\n",
    "                                                'Open',\n",
    "                                                'High',\n",
    "                                                'Low',\n",
    "                                                'Close',\n",
    "                                                'Volume',\n",
    "                                                'Close time',\n",
    "                                                'Quote asset volume',\n",
    "                                                'Number of trades',\n",
    "                                                'Taker buy base asset volume',\n",
    "                                                'Taker buy quote asset volume',\n",
    "                                                'Can be ignored',])\n",
    "            y = np.array(disp['Close'].astype(float))\n",
    "            # x = np.array(disp['Close time'].astype(float)).reshape((-1, 1))\n",
    "            x = np.linspace(0.0, float(min_num) - 1.0, num = min_num).reshape((-1, 1))\n",
    "            slope = LinearRegression().fit(x, y).coef_\n",
    "            print(pair[:len('USDT')-1], slope[0], 'USDT/min')"
   ]
  },
  {
   "cell_type": "code",
   "execution_count": 99,
   "metadata": {},
   "outputs": [],
   "source": [
    "def buyAmount(coin, pair):\n",
    "    balanceBuy = float(client.get_asset_balance(coin,\n",
    "    recvWindow=10000)['free'])\n",
    "    close = float(client.get_symbol_ticker(symbol=pair)['price'])\n",
    "    maxBuy = round(balanceBuy / close * .995, 5)\n",
    "    return maxBuy\n",
    "    \n",
    "def sellAmount(coin):\n",
    "    balanceSell = float(client.get_asset_balance(coin,\n",
    "    recvWindow=10000)['free'])\n",
    "    maxSell = round(balanceSell * .995, 5)\n",
    "    return maxSell"
   ]
  },
  {
   "cell_type": "code",
   "execution_count": 121,
   "metadata": {},
   "outputs": [
    {
     "output_type": "execute_result",
     "data": {
      "text/plain": "0.00434"
     },
     "metadata": {},
     "execution_count": 121
    }
   ],
   "source": [
    "buyAmount('USDT', 'BTCUSDT')"
   ]
  },
  {
   "cell_type": "code",
   "execution_count": null,
   "metadata": {},
   "outputs": [],
   "source": [
    "sellAmount('BTC')"
   ]
  },
  {
   "cell_type": "code",
   "execution_count": null,
   "metadata": {},
   "outputs": [],
   "source": [
    "def buy(amount, pair):\n",
    "    client.create_test_order(\n",
    "    symbol=pair,\n",
    "    side=Client.SIDE_BUY,\n",
    "    type=Client.ORDER_TYPE_MARKET,\n",
    "    quantity=amount,\n",
    "    recvWindow=10000)\n",
    "    print('Buy: {}'.format(amount))\n",
    "    \n",
    "def sell(amount, pair):\n",
    "    client.create_test_order(\n",
    "    symbol=pair,\n",
    "    side=Client.SIDE_SELL,\n",
    "    type=Client.ORDER_TYPE_MARKET,\n",
    "    quantity=amount,\n",
    "    recvWindow=10000)\n",
    "    print('Sell: {}'.format(amount))"
   ]
  },
  {
   "cell_type": "code",
   "execution_count": null,
   "metadata": {},
   "outputs": [],
   "source": [
    "def buyBTC():\n",
    "    amount = buyAmount('USDT', 'BTCUSDT')\n",
    "    buy(amount, 'BTCUSDT')\n",
    "\n",
    "def sellBTC():\n",
    "    amount = sellAmount('USDT')\n",
    "    sell(amount, 'BTCUSDT')"
   ]
  },
  {
   "cell_type": "code",
   "execution_count": 108,
   "metadata": {
    "tags": []
   },
   "outputs": [
    {
     "output_type": "stream",
     "name": "stdout",
     "text": "Buy: 0.00434\n"
    }
   ],
   "source": [
    "# maxBuy = buyAmount('USDT', 'BTCUSDT')\n",
    "# buy(maxBuy, 'BTCUSDT')\n",
    "# maxSell = sellAmount('USDT')\n",
    "# sell(maxSell, 'BTCUSDT')\n",
    "buyBTC()"
   ]
  },
  {
   "cell_type": "code",
   "execution_count": 109,
   "metadata": {
    "tags": []
   },
   "outputs": [
    {
     "output_type": "stream",
     "name": "stdout",
     "text": "Sell: 46.44722\n"
    }
   ],
   "source": [
    "sellBTC()"
   ]
  },
  {
   "cell_type": "code",
   "execution_count": 106,
   "metadata": {
    "tags": []
   },
   "outputs": [
    {
     "output_type": "stream",
     "name": "stdout",
     "text": "BTC -2.349999999999453 USDT/min\nETH -0.09499999999999886 USDT/min\nXRP -1.5000000000001125e-05 USDT/min\nBTC 0.302545454545499 USDT/min\nETH 0.048242424242426876 USDT/min\nXRP -1.539393939393898e-05 USDT/min\n"
    }
   ],
   "source": [
    "show_average(3)\n",
    "show_average(10)"
   ]
  },
  {
   "cell_type": "code",
   "execution_count": 119,
   "metadata": {
    "tags": []
   },
   "outputs": [
    {
     "output_type": "stream",
     "name": "stdout",
     "text": "BTC 0.00000000\nUSDT 46.68062465\nPHP 2334.0312325\n"
    }
   ],
   "source": [
    "printAsset()"
   ]
  },
  {
   "cell_type": "code",
   "execution_count": null,
   "metadata": {},
   "outputs": [],
   "source": []
  }
 ]
}