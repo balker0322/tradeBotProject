{
 "metadata": {
  "language_info": {
   "codemirror_mode": {
    "name": "ipython",
    "version": 3
   },
   "file_extension": ".py",
   "mimetype": "text/x-python",
   "name": "python",
   "nbconvert_exporter": "python",
   "pygments_lexer": "ipython3",
   "version": "3.6.5-final"
  },
  "orig_nbformat": 2,
  "kernelspec": {
   "name": "Python 3.6.5 64-bit",
   "display_name": "Python 3.6.5 64-bit",
   "metadata": {
    "interpreter": {
     "hash": "2554e3954a55011ec49b9ed6ab087f3d10e15c744110fb59f3cc88c1f24fb9b6"
    }
   }
  }
 },
 "nbformat": 4,
 "nbformat_minor": 2,
 "cells": [
  {
   "cell_type": "code",
   "execution_count": null,
   "metadata": {
    "tags": []
   },
   "outputs": [],
   "source": [
    "from binance.client import Client\n",
    "import pandas as pd\n",
    "import json\n",
    "import numpy as np\n",
    "from sklearn.linear_model import LinearRegression"
   ]
  },
  {
   "cell_type": "code",
   "execution_count": null,
   "metadata": {
    "tags": []
   },
   "outputs": [],
   "source": [
    "from security import get_keys\n",
    "binance_key = get_keys('client')\n",
    "client = Client(binance_key['api_key'], binance_key['api_secret'])"
   ]
  },
  {
   "cell_type": "code",
   "execution_count": null,
   "metadata": {},
   "outputs": [],
   "source": [
    "all_symbol_ticker = pd.DataFrame(client.get_symbol_ticker())\n",
    "all_balances = pd.DataFrame(client.get_account()['balances'])"
   ]
  },
  {
   "cell_type": "code",
   "execution_count": 93,
   "metadata": {},
   "outputs": [],
   "source": [
    "def printAsset():\n",
    "    BTC = client.get_asset_balance('BTC', recvWindow=10000)['free']\n",
    "    USDT = client.get_asset_balance('USDT', recvWindow=10000)['free']\n",
    "    print('BTC', BTC)\n",
    "    print('USDT', USDT)\n",
    "    print('PHP', float(USDT)*50.0)"
   ]
  },
  {
   "cell_type": "code",
   "execution_count": 96,
   "metadata": {
    "tags": []
   },
   "outputs": [
    {
     "output_type": "stream",
     "name": "stdout",
     "text": "BTC 0.00000000\nUSDT 46.68062465\nPHP 2334.0312325\n"
    }
   ],
   "source": [
    "printAsset()"
   ]
  },
  {
   "cell_type": "code",
   "execution_count": null,
   "metadata": {},
   "outputs": [],
   "source": [
    "symbols = ['USDT', 'BTC', 'ETH', 'XRP']\n",
    "expected_pairs = []\n",
    "for sym1 in symbols:\n",
    "    for sym2 in symbols:\n",
    "        if sym1 == sym2:\n",
    "            continue\n",
    "        expected_pairs.append(sym1 + sym2)\n",
    "pairs = [x for x in all_symbol_ticker['symbol'] if x in expected_pairs]\n",
    "pairs"
   ]
  },
  {
   "cell_type": "code",
   "execution_count": null,
   "metadata": {
    "tags": []
   },
   "outputs": [],
   "source": [
    "def show_average(min_num):\n",
    "    for pair in pairs:\n",
    "        if 'USDT' in pair:\n",
    "            data = client.get_historical_klines(pair, client.KLINE_INTERVAL_1MINUTE, str(min_num) + \" min ago UTC\")\n",
    "            disp = pd.DataFrame(data, columns = ['Open time',\n",
    "                                                'Open',\n",
    "                                                'High',\n",
    "                                                'Low',\n",
    "                                                'Close',\n",
    "                                                'Volume',\n",
    "                                                'Close time',\n",
    "                                                'Quote asset volume',\n",
    "                                                'Number of trades',\n",
    "                                                'Taker buy base asset volume',\n",
    "                                                'Taker buy quote asset volume',\n",
    "                                                'Can be ignored',])\n",
    "            y = np.array(disp['Close'].astype(float))\n",
    "            # x = np.array(disp['Close time'].astype(float)).reshape((-1, 1))\n",
    "            x = np.linspace(0.0, float(min_num) - 1.0, num = min_num).reshape((-1, 1))\n",
    "            slope = LinearRegression().fit(x, y).coef_\n",
    "            print(pair[:len('USDT')-1], slope[0], 'USDT/min')"
   ]
  },
  {
   "cell_type": "code",
   "execution_count": null,
   "metadata": {},
   "outputs": [],
   "source": [
    "def buyAmount(coin, pair):\n",
    "    balanceBuy = float(client.get_asset_balance(coin,\n",
    "    recvWindow=10000)['free'])\n",
    "    close = float(client.get_symbol_ticker(symbol=pair)['price'])\n",
    "    maxBuy = round(balanceBuy / close * .995, 5)\n",
    "    return maxBuy\n",
    "    \n",
    "def sellAmount(coin):\n",
    "    balanceSell = float(client.get_asset_balance(coin,\n",
    "    recvWindow=10000)['free'])\n",
    "    maxSell = round(balanceSell * .995, 5)\n",
    "    return maxSell"
   ]
  },
  {
   "cell_type": "code",
   "execution_count": 121,
   "metadata": {},
   "outputs": [
    {
     "output_type": "execute_result",
     "data": {
      "text/plain": "0.00434"
     },
     "metadata": {},
     "execution_count": 121
    }
   ],
   "source": [
    "buyAmount('USDT', 'BTCUSDT')"
   ]
  },
  {
   "cell_type": "code",
   "execution_count": null,
   "metadata": {},
   "outputs": [],
   "source": [
    "sellAmount('BTC')"
   ]
  },
  {
   "cell_type": "code",
   "execution_count": null,
   "metadata": {},
   "outputs": [],
   "source": [
    "def buy(amount, pair):\n",
    "    client.create_test_order(\n",
    "    symbol=pair,\n",
    "    side=Client.SIDE_BUY,\n",
    "    type=Client.ORDER_TYPE_MARKET,\n",
    "    quantity=amount,\n",
    "    recvWindow=10000)\n",
    "    print('Buy: {}'.format(amount))\n",
    "    \n",
    "def sell(amount, pair):\n",
    "    client.create_test_order(\n",
    "    symbol=pair,\n",
    "    side=Client.SIDE_SELL,\n",
    "    type=Client.ORDER_TYPE_MARKET,\n",
    "    quantity=amount,\n",
    "    recvWindow=10000)\n",
    "    print('Sell: {}'.format(amount))"
   ]
  },
  {
   "cell_type": "code",
   "execution_count": null,
   "metadata": {},
   "outputs": [],
   "source": [
    "def buyBTC():\n",
    "    amount = buyAmount('USDT', 'BTCUSDT')\n",
    "    buy(amount, 'BTCUSDT')\n",
    "\n",
    "def sellBTC():\n",
    "    amount = sellAmount('USDT')\n",
    "    sell(amount, 'BTCUSDT')"
   ]
  },
  {
   "cell_type": "code",
   "execution_count": 108,
   "metadata": {
    "tags": []
   },
   "outputs": [
    {
     "output_type": "stream",
     "name": "stdout",
     "text": "Buy: 0.00434\n"
    }
   ],
   "source": [
    "# maxBuy = buyAmount('USDT', 'BTCUSDT')\n",
    "# buy(maxBuy, 'BTCUSDT')\n",
    "# maxSell = sellAmount('USDT')\n",
    "# sell(maxSell, 'BTCUSDT')\n",
    "buyBTC()"
   ]
  },
  {
   "cell_type": "code",
   "execution_count": 109,
   "metadata": {
    "tags": []
   },
   "outputs": [
    {
     "output_type": "stream",
     "name": "stdout",
     "text": "Sell: 46.44722\n"
    }
   ],
   "source": [
    "sellBTC()"
   ]
  },
  {
   "cell_type": "code",
   "execution_count": 106,
   "metadata": {
    "tags": []
   },
   "outputs": [
    {
     "output_type": "stream",
     "name": "stdout",
     "text": "BTC -2.349999999999453 USDT/min\nETH -0.09499999999999886 USDT/min\nXRP -1.5000000000001125e-05 USDT/min\nBTC 0.302545454545499 USDT/min\nETH 0.048242424242426876 USDT/min\nXRP -1.539393939393898e-05 USDT/min\n"
    }
   ],
   "source": [
    "show_average(3)\n",
    "show_average(10)"
   ]
  },
  {
   "cell_type": "code",
   "execution_count": 119,
   "metadata": {
    "tags": []
   },
   "outputs": [
    {
     "output_type": "stream",
     "name": "stdout",
     "text": "BTC 0.00000000\nUSDT 46.68062465\nPHP 2334.0312325\n"
    }
   ],
   "source": [
    "printAsset()"
   ]
  },
  {
   "cell_type": "code",
   "execution_count": null,
   "metadata": {},
   "outputs": [],
   "source": []
  }
 ]
}