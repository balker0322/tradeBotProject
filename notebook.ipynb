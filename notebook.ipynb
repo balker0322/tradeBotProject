{
 "metadata": {
  "language_info": {
   "codemirror_mode": {
    "name": "ipython",
    "version": 3
   },
   "file_extension": ".py",
   "mimetype": "text/x-python",
   "name": "python",
   "nbconvert_exporter": "python",
   "pygments_lexer": "ipython3",
   "version": "3.6.5-final"
  },
  "orig_nbformat": 2,
  "kernelspec": {
   "name": "Python 3.6.5 64-bit",
   "display_name": "Python 3.6.5 64-bit",
   "metadata": {
    "interpreter": {
     "hash": "2554e3954a55011ec49b9ed6ab087f3d10e15c744110fb59f3cc88c1f24fb9b6"
    }
   }
  }
 },
 "nbformat": 4,
 "nbformat_minor": 2,
 "cells": [
  {
   "cell_type": "code",
   "execution_count": 1,
   "metadata": {
    "tags": []
   },
   "outputs": [],
   "source": [
    "from binance.client import Client\n",
    "import pandas as pd\n",
    "import json\n",
    "import numpy as np\n",
    "from sklearn.linear_model import LinearRegression"
   ]
  },
  {
   "cell_type": "code",
   "execution_count": 2,
   "metadata": {
    "tags": []
   },
   "outputs": [
    {
     "output_type": "stream",
     "name": "stdout",
     "text": "correct password\n"
    }
   ],
   "source": [
    "from security import get_keys\n",
    "binance_key = get_keys('client')\n",
    "client = Client(binance_key['api_key'], binance_key['api_secret'])"
   ]
  },
  {
   "cell_type": "code",
   "execution_count": 3,
   "metadata": {},
   "outputs": [],
   "source": [
    "all_symbol_ticker = pd.DataFrame(client.get_symbol_ticker())\n",
    "all_balances = pd.DataFrame(client.get_account()['balances'])"
   ]
  },
  {
   "cell_type": "code",
   "execution_count": 16,
   "metadata": {},
   "outputs": [
    {
     "output_type": "execute_result",
     "data": {
      "text/plain": "324358.7327868959"
     },
     "metadata": {},
     "execution_count": 16
    }
   ],
   "source": [
    "all_symbol_ticker['price'].astype(float).mean()"
   ]
  },
  {
   "cell_type": "code",
   "execution_count": 4,
   "metadata": {},
   "outputs": [
    {
     "output_type": "execute_result",
     "data": {
      "text/plain": "['ETHBTC', 'BTCUSDT', 'ETHUSDT', 'XRPBTC', 'XRPETH', 'XRPUSDT']"
     },
     "metadata": {},
     "execution_count": 4
    }
   ],
   "source": [
    "symbols = ['USDT', 'BTC', 'ETH', 'XRP']\n",
    "expected_pairs = []\n",
    "for sym1 in symbols:\n",
    "    for sym2 in symbols:\n",
    "        if sym1 == sym2:\n",
    "            continue\n",
    "        expected_pairs.append(sym1 + sym2)\n",
    "pairs = [x for x in all_symbol_ticker['symbol'] if x in expected_pairs]\n",
    "pairs"
   ]
  },
  {
   "cell_type": "code",
   "execution_count": 43,
   "metadata": {
    "tags": []
   },
   "outputs": [],
   "source": [
    "def show_average(min_num):\n",
    "    for pair in pairs:\n",
    "        if 'USDT' in pair:\n",
    "            data = client.get_historical_klines(pair, client.KLINE_INTERVAL_1MINUTE, str(min_num) + \" min ago UTC\")\n",
    "            disp = pd.DataFrame(data, columns = ['Open time',\n",
    "                                                'Open',\n",
    "                                                'High',\n",
    "                                                'Low',\n",
    "                                                'Close',\n",
    "                                                'Volume',\n",
    "                                                'Close time',\n",
    "                                                'Quote asset volume',\n",
    "                                                'Number of trades',\n",
    "                                                'Taker buy base asset volume',\n",
    "                                                'Taker buy quote asset volume',\n",
    "                                                'Can be ignored',])\n",
    "            y = np.array(disp['Close'].astype(float))\n",
    "            x = np.array(disp['Close time'].astype(float)).reshape((-1, 1))\n",
    "            slope = LinearRegression().fit(x, y).coef_\n",
    "            print(pair[:len('USDT')-1], slope[0], 'USDT/min')"
   ]
  },
  {
   "cell_type": "code",
   "execution_count": 62,
   "metadata": {
    "tags": []
   },
   "outputs": [
    {
     "output_type": "stream",
     "name": "stdout",
     "text": "BTC 4.628787878788315e-06 USDT/min\nETH 1.2681818181818358e-06 USDT/min\nXRP 4.757575757575597e-10 USDT/min\n"
    }
   ],
   "source": [
    "show_average(11)"
   ]
  },
  {
   "cell_type": "code",
   "execution_count": null,
   "metadata": {},
   "outputs": [],
   "source": []
  }
 ]
}