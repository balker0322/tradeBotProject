{
 "metadata": {
  "language_info": {
   "codemirror_mode": {
    "name": "ipython",
    "version": 3
   },
   "file_extension": ".py",
   "mimetype": "text/x-python",
   "name": "python",
   "nbconvert_exporter": "python",
   "pygments_lexer": "ipython3",
   "version": "3.6.5-final"
  },
  "orig_nbformat": 2,
  "kernelspec": {
   "name": "Python 3.6.5 64-bit",
   "display_name": "Python 3.6.5 64-bit",
   "metadata": {
    "interpreter": {
     "hash": "2554e3954a55011ec49b9ed6ab087f3d10e15c744110fb59f3cc88c1f24fb9b6"
    }
   }
  }
 },
 "nbformat": 4,
 "nbformat_minor": 2,
 "cells": [
  {
   "cell_type": "code",
   "execution_count": 3,
   "metadata": {
    "tags": []
   },
   "outputs": [],
   "source": [
    "from binance.client import Client\n",
    "import pandas as pd\n",
    "import json\n",
    "import numpy as np\n",
    "from sklearn.linear_model import LinearRegression"
   ]
  },
  {
   "cell_type": "code",
   "execution_count": 4,
   "metadata": {
    "tags": []
   },
   "outputs": [
    {
     "output_type": "stream",
     "name": "stdout",
     "text": "correct password\n"
    }
   ],
   "source": [
    "from security import get_keys\n",
    "binance_key = get_keys('client')\n",
    "client = Client(binance_key['api_key'], binance_key['api_secret'])"
   ]
  },
  {
   "cell_type": "code",
   "execution_count": 104,
   "metadata": {},
   "outputs": [],
   "source": [
    "pair = 'BTCUSDT'\n",
    "min_num = 1\n",
    "data = client.get_historical_klines(pair, client.KLINE_INTERVAL_1MINUTE, str(min_num) + \" min ago UTC\")\n",
    "disp = pd.DataFrame(data, columns = ['Open time',\n",
    "                                                'Open',\n",
    "                                                'High',\n",
    "                                                'Low',\n",
    "                                                'Close',\n",
    "                                                'Volume',\n",
    "                                                'Close time',\n",
    "                                                'Quote asset volume',\n",
    "                                                'Number of trades',\n",
    "                                                'Taker buy base asset volume',\n",
    "                                                'Taker buy quote asset volume',\n",
    "                                                'Can be ignored',])\n",
    "disp.set_index('Open')\n",
    "# disp.to_csv('my_csv.csv', mode='a', header=False)\n",
    "disp.to_csv('my_csv.csv')#, mode='a', header=False)"
   ]
  },
  {
   "cell_type": "code",
   "execution_count": 126,
   "metadata": {},
   "outputs": [],
   "source": [
    "pair = 'BTCUSDT'\n",
    "min_num = 1\n",
    "disp = pd.DataFrame(columns=['date', 'price'])"
   ]
  },
  {
   "cell_type": "code",
   "execution_count": 139,
   "metadata": {},
   "outputs": [
    {
     "output_type": "execute_result",
     "data": {
      "text/plain": "                         date     price\n0  2020-09-27 12:30:01.409422  10770.67\n1  2020-09-27 12:30:02.543528  10770.67\n2  2020-09-27 12:30:03.612520  10770.66\n3  2020-09-27 12:30:04.418676  10770.00\n4  2020-09-27 12:30:05.497634  10770.56\n5  2020-09-27 12:30:06.552599  10770.56\n6  2020-09-27 12:30:08.116492  10770.56\n7  2020-09-27 12:30:09.254560  10770.63\n8  2020-09-27 12:31:07.729697  10774.68\n9  2020-09-27 12:31:09.122091  10774.68\n10 2020-09-27 12:31:10.127007  10774.68\n11 2020-09-27 12:31:12.690918  10774.25",
      "text/html": "<div>\n<style scoped>\n    .dataframe tbody tr th:only-of-type {\n        vertical-align: middle;\n    }\n\n    .dataframe tbody tr th {\n        vertical-align: top;\n    }\n\n    .dataframe thead th {\n        text-align: right;\n    }\n</style>\n<table border=\"1\" class=\"dataframe\">\n  <thead>\n    <tr style=\"text-align: right;\">\n      <th></th>\n      <th>date</th>\n      <th>price</th>\n    </tr>\n  </thead>\n  <tbody>\n    <tr>\n      <th>0</th>\n      <td>2020-09-27 12:30:01.409422</td>\n      <td>10770.67</td>\n    </tr>\n    <tr>\n      <th>1</th>\n      <td>2020-09-27 12:30:02.543528</td>\n      <td>10770.67</td>\n    </tr>\n    <tr>\n      <th>2</th>\n      <td>2020-09-27 12:30:03.612520</td>\n      <td>10770.66</td>\n    </tr>\n    <tr>\n      <th>3</th>\n      <td>2020-09-27 12:30:04.418676</td>\n      <td>10770.00</td>\n    </tr>\n    <tr>\n      <th>4</th>\n      <td>2020-09-27 12:30:05.497634</td>\n      <td>10770.56</td>\n    </tr>\n    <tr>\n      <th>5</th>\n      <td>2020-09-27 12:30:06.552599</td>\n      <td>10770.56</td>\n    </tr>\n    <tr>\n      <th>6</th>\n      <td>2020-09-27 12:30:08.116492</td>\n      <td>10770.56</td>\n    </tr>\n    <tr>\n      <th>7</th>\n      <td>2020-09-27 12:30:09.254560</td>\n      <td>10770.63</td>\n    </tr>\n    <tr>\n      <th>8</th>\n      <td>2020-09-27 12:31:07.729697</td>\n      <td>10774.68</td>\n    </tr>\n    <tr>\n      <th>9</th>\n      <td>2020-09-27 12:31:09.122091</td>\n      <td>10774.68</td>\n    </tr>\n    <tr>\n      <th>10</th>\n      <td>2020-09-27 12:31:10.127007</td>\n      <td>10774.68</td>\n    </tr>\n    <tr>\n      <th>11</th>\n      <td>2020-09-27 12:31:12.690918</td>\n      <td>10774.25</td>\n    </tr>\n  </tbody>\n</table>\n</div>"
     },
     "metadata": {},
     "execution_count": 139
    }
   ],
   "source": [
    "data = client.get_historical_klines(pair, client.KLINE_INTERVAL_1MINUTE, str(min_num) + \" min ago UTC\")\n",
    "dateStamp = pd.Timestamp.now()\n",
    "disp.loc[len(disp)] = [dateStamp, float(data[0][4])]\n",
    "disp"
   ]
  },
  {
   "cell_type": "code",
   "execution_count": 249,
   "metadata": {},
   "outputs": [
    {
     "output_type": "error",
     "ename": "TypeError",
     "evalue": "cannot astype a datetimelike from [datetime64[ns]] to [timedelta64[D]]",
     "traceback": [
      "\u001b[1;31m---------------------------------------------------------------------------\u001b[0m",
      "\u001b[1;31mTypeError\u001b[0m                                 Traceback (most recent call last)",
      "\u001b[1;32m<ipython-input-249-8f2db5c78394>\u001b[0m in \u001b[0;36m<module>\u001b[1;34m\u001b[0m\n\u001b[0;32m      9\u001b[0m \u001b[1;31m# slope = LinearRegression().fit(x, y).coef_\u001b[0m\u001b[1;33m\u001b[0m\u001b[1;33m\u001b[0m\u001b[0m\n\u001b[0;32m     10\u001b[0m \u001b[1;31m# slope\u001b[0m\u001b[1;33m\u001b[0m\u001b[1;33m\u001b[0m\u001b[0m\n\u001b[1;32m---> 11\u001b[1;33m \u001b[0mdf_a\u001b[0m\u001b[1;33m[\u001b[0m\u001b[1;34m'date'\u001b[0m\u001b[1;33m]\u001b[0m\u001b[1;33m.\u001b[0m\u001b[0mastype\u001b[0m\u001b[1;33m(\u001b[0m\u001b[1;34m'timedelta64[D]'\u001b[0m\u001b[1;33m)\u001b[0m\u001b[1;33m\u001b[0m\u001b[0m\n\u001b[0m\u001b[0;32m     12\u001b[0m \u001b[1;31m# y\u001b[0m\u001b[1;33m\u001b[0m\u001b[1;33m\u001b[0m\u001b[0m\n",
      "\u001b[1;32m~\\AppData\\Local\\Programs\\Python\\Python36\\lib\\site-packages\\pandas\\core\\generic.py\u001b[0m in \u001b[0;36mastype\u001b[1;34m(self, dtype, copy, errors)\u001b[0m\n\u001b[0;32m   5541\u001b[0m         \u001b[1;32melse\u001b[0m\u001b[1;33m:\u001b[0m\u001b[1;33m\u001b[0m\u001b[0m\n\u001b[0;32m   5542\u001b[0m             \u001b[1;31m# else, only a single dtype is given\u001b[0m\u001b[1;33m\u001b[0m\u001b[1;33m\u001b[0m\u001b[0m\n\u001b[1;32m-> 5543\u001b[1;33m             \u001b[0mnew_data\u001b[0m \u001b[1;33m=\u001b[0m \u001b[0mself\u001b[0m\u001b[1;33m.\u001b[0m\u001b[0m_mgr\u001b[0m\u001b[1;33m.\u001b[0m\u001b[0mastype\u001b[0m\u001b[1;33m(\u001b[0m\u001b[0mdtype\u001b[0m\u001b[1;33m=\u001b[0m\u001b[0mdtype\u001b[0m\u001b[1;33m,\u001b[0m \u001b[0mcopy\u001b[0m\u001b[1;33m=\u001b[0m\u001b[0mcopy\u001b[0m\u001b[1;33m,\u001b[0m \u001b[0merrors\u001b[0m\u001b[1;33m=\u001b[0m\u001b[0merrors\u001b[0m\u001b[1;33m,\u001b[0m\u001b[1;33m)\u001b[0m\u001b[1;33m\u001b[0m\u001b[0m\n\u001b[0m\u001b[0;32m   5544\u001b[0m             \u001b[1;32mreturn\u001b[0m \u001b[0mself\u001b[0m\u001b[1;33m.\u001b[0m\u001b[0m_constructor\u001b[0m\u001b[1;33m(\u001b[0m\u001b[0mnew_data\u001b[0m\u001b[1;33m)\u001b[0m\u001b[1;33m.\u001b[0m\u001b[0m__finalize__\u001b[0m\u001b[1;33m(\u001b[0m\u001b[0mself\u001b[0m\u001b[1;33m,\u001b[0m \u001b[0mmethod\u001b[0m\u001b[1;33m=\u001b[0m\u001b[1;34m\"astype\"\u001b[0m\u001b[1;33m)\u001b[0m\u001b[1;33m\u001b[0m\u001b[0m\n\u001b[0;32m   5545\u001b[0m \u001b[1;33m\u001b[0m\u001b[0m\n",
      "\u001b[1;32m~\\AppData\\Local\\Programs\\Python\\Python36\\lib\\site-packages\\pandas\\core\\internals\\managers.py\u001b[0m in \u001b[0;36mastype\u001b[1;34m(self, dtype, copy, errors)\u001b[0m\n\u001b[0;32m    593\u001b[0m         \u001b[0mself\u001b[0m\u001b[1;33m,\u001b[0m \u001b[0mdtype\u001b[0m\u001b[1;33m,\u001b[0m \u001b[0mcopy\u001b[0m\u001b[1;33m:\u001b[0m \u001b[0mbool\u001b[0m \u001b[1;33m=\u001b[0m \u001b[1;32mFalse\u001b[0m\u001b[1;33m,\u001b[0m \u001b[0merrors\u001b[0m\u001b[1;33m:\u001b[0m \u001b[0mstr\u001b[0m \u001b[1;33m=\u001b[0m \u001b[1;34m\"raise\"\u001b[0m\u001b[1;33m\u001b[0m\u001b[0m\n\u001b[0;32m    594\u001b[0m     ) -> \"BlockManager\":\n\u001b[1;32m--> 595\u001b[1;33m         \u001b[1;32mreturn\u001b[0m \u001b[0mself\u001b[0m\u001b[1;33m.\u001b[0m\u001b[0mapply\u001b[0m\u001b[1;33m(\u001b[0m\u001b[1;34m\"astype\"\u001b[0m\u001b[1;33m,\u001b[0m \u001b[0mdtype\u001b[0m\u001b[1;33m=\u001b[0m\u001b[0mdtype\u001b[0m\u001b[1;33m,\u001b[0m \u001b[0mcopy\u001b[0m\u001b[1;33m=\u001b[0m\u001b[0mcopy\u001b[0m\u001b[1;33m,\u001b[0m \u001b[0merrors\u001b[0m\u001b[1;33m=\u001b[0m\u001b[0merrors\u001b[0m\u001b[1;33m)\u001b[0m\u001b[1;33m\u001b[0m\u001b[0m\n\u001b[0m\u001b[0;32m    596\u001b[0m \u001b[1;33m\u001b[0m\u001b[0m\n\u001b[0;32m    597\u001b[0m     def convert(\n",
      "\u001b[1;32m~\\AppData\\Local\\Programs\\Python\\Python36\\lib\\site-packages\\pandas\\core\\internals\\managers.py\u001b[0m in \u001b[0;36mapply\u001b[1;34m(self, f, align_keys, **kwargs)\u001b[0m\n\u001b[0;32m    404\u001b[0m                 \u001b[0mapplied\u001b[0m \u001b[1;33m=\u001b[0m \u001b[0mb\u001b[0m\u001b[1;33m.\u001b[0m\u001b[0mapply\u001b[0m\u001b[1;33m(\u001b[0m\u001b[0mf\u001b[0m\u001b[1;33m,\u001b[0m \u001b[1;33m**\u001b[0m\u001b[0mkwargs\u001b[0m\u001b[1;33m)\u001b[0m\u001b[1;33m\u001b[0m\u001b[0m\n\u001b[0;32m    405\u001b[0m             \u001b[1;32melse\u001b[0m\u001b[1;33m:\u001b[0m\u001b[1;33m\u001b[0m\u001b[0m\n\u001b[1;32m--> 406\u001b[1;33m                 \u001b[0mapplied\u001b[0m \u001b[1;33m=\u001b[0m \u001b[0mgetattr\u001b[0m\u001b[1;33m(\u001b[0m\u001b[0mb\u001b[0m\u001b[1;33m,\u001b[0m \u001b[0mf\u001b[0m\u001b[1;33m)\u001b[0m\u001b[1;33m(\u001b[0m\u001b[1;33m**\u001b[0m\u001b[0mkwargs\u001b[0m\u001b[1;33m)\u001b[0m\u001b[1;33m\u001b[0m\u001b[0m\n\u001b[0m\u001b[0;32m    407\u001b[0m             \u001b[0mresult_blocks\u001b[0m \u001b[1;33m=\u001b[0m \u001b[0m_extend_blocks\u001b[0m\u001b[1;33m(\u001b[0m\u001b[0mapplied\u001b[0m\u001b[1;33m,\u001b[0m \u001b[0mresult_blocks\u001b[0m\u001b[1;33m)\u001b[0m\u001b[1;33m\u001b[0m\u001b[0m\n\u001b[0;32m    408\u001b[0m \u001b[1;33m\u001b[0m\u001b[0m\n",
      "\u001b[1;32m~\\AppData\\Local\\Programs\\Python\\Python36\\lib\\site-packages\\pandas\\core\\internals\\blocks.py\u001b[0m in \u001b[0;36mastype\u001b[1;34m(self, dtype, copy, errors)\u001b[0m\n\u001b[0;32m   2095\u001b[0m \u001b[1;33m\u001b[0m\u001b[0m\n\u001b[0;32m   2096\u001b[0m         \u001b[1;31m# delegate\u001b[0m\u001b[1;33m\u001b[0m\u001b[1;33m\u001b[0m\u001b[0m\n\u001b[1;32m-> 2097\u001b[1;33m         \u001b[1;32mreturn\u001b[0m \u001b[0msuper\u001b[0m\u001b[1;33m(\u001b[0m\u001b[1;33m)\u001b[0m\u001b[1;33m.\u001b[0m\u001b[0mastype\u001b[0m\u001b[1;33m(\u001b[0m\u001b[0mdtype\u001b[0m\u001b[1;33m=\u001b[0m\u001b[0mdtype\u001b[0m\u001b[1;33m,\u001b[0m \u001b[0mcopy\u001b[0m\u001b[1;33m=\u001b[0m\u001b[0mcopy\u001b[0m\u001b[1;33m,\u001b[0m \u001b[0merrors\u001b[0m\u001b[1;33m=\u001b[0m\u001b[0merrors\u001b[0m\u001b[1;33m)\u001b[0m\u001b[1;33m\u001b[0m\u001b[0m\n\u001b[0m\u001b[0;32m   2098\u001b[0m \u001b[1;33m\u001b[0m\u001b[0m\n\u001b[0;32m   2099\u001b[0m     \u001b[1;32mdef\u001b[0m \u001b[0m_can_hold_element\u001b[0m\u001b[1;33m(\u001b[0m\u001b[0mself\u001b[0m\u001b[1;33m,\u001b[0m \u001b[0melement\u001b[0m\u001b[1;33m:\u001b[0m \u001b[0mAny\u001b[0m\u001b[1;33m)\u001b[0m \u001b[1;33m->\u001b[0m \u001b[0mbool\u001b[0m\u001b[1;33m:\u001b[0m\u001b[1;33m\u001b[0m\u001b[0m\n",
      "\u001b[1;32m~\\AppData\\Local\\Programs\\Python\\Python36\\lib\\site-packages\\pandas\\core\\internals\\blocks.py\u001b[0m in \u001b[0;36mastype\u001b[1;34m(self, dtype, copy, errors)\u001b[0m\n\u001b[0;32m    592\u001b[0m             \u001b[0mvals1d\u001b[0m \u001b[1;33m=\u001b[0m \u001b[0mvalues\u001b[0m\u001b[1;33m.\u001b[0m\u001b[0mravel\u001b[0m\u001b[1;33m(\u001b[0m\u001b[1;33m)\u001b[0m\u001b[1;33m\u001b[0m\u001b[0m\n\u001b[0;32m    593\u001b[0m             \u001b[1;32mtry\u001b[0m\u001b[1;33m:\u001b[0m\u001b[1;33m\u001b[0m\u001b[0m\n\u001b[1;32m--> 594\u001b[1;33m                 \u001b[0mvalues\u001b[0m \u001b[1;33m=\u001b[0m \u001b[0mastype_nansafe\u001b[0m\u001b[1;33m(\u001b[0m\u001b[0mvals1d\u001b[0m\u001b[1;33m,\u001b[0m \u001b[0mdtype\u001b[0m\u001b[1;33m,\u001b[0m \u001b[0mcopy\u001b[0m\u001b[1;33m=\u001b[0m\u001b[1;32mTrue\u001b[0m\u001b[1;33m)\u001b[0m\u001b[1;33m\u001b[0m\u001b[0m\n\u001b[0m\u001b[0;32m    595\u001b[0m             \u001b[1;32mexcept\u001b[0m \u001b[1;33m(\u001b[0m\u001b[0mValueError\u001b[0m\u001b[1;33m,\u001b[0m \u001b[0mTypeError\u001b[0m\u001b[1;33m)\u001b[0m\u001b[1;33m:\u001b[0m\u001b[1;33m\u001b[0m\u001b[0m\n\u001b[0;32m    596\u001b[0m                 \u001b[1;31m# e.g. astype_nansafe can fail on object-dtype of strings\u001b[0m\u001b[1;33m\u001b[0m\u001b[1;33m\u001b[0m\u001b[0m\n",
      "\u001b[1;32m~\\AppData\\Local\\Programs\\Python\\Python36\\lib\\site-packages\\pandas\\core\\dtypes\\cast.py\u001b[0m in \u001b[0;36mastype_nansafe\u001b[1;34m(arr, dtype, copy, skipna)\u001b[0m\n\u001b[0;32m    932\u001b[0m             \u001b[1;32mreturn\u001b[0m \u001b[0marr\u001b[0m\u001b[1;33m.\u001b[0m\u001b[0mastype\u001b[0m\u001b[1;33m(\u001b[0m\u001b[0mdtype\u001b[0m\u001b[1;33m)\u001b[0m\u001b[1;33m\u001b[0m\u001b[0m\n\u001b[0;32m    933\u001b[0m \u001b[1;33m\u001b[0m\u001b[0m\n\u001b[1;32m--> 934\u001b[1;33m         \u001b[1;32mraise\u001b[0m \u001b[0mTypeError\u001b[0m\u001b[1;33m(\u001b[0m\u001b[1;34mf\"cannot astype a datetimelike from [{arr.dtype}] to [{dtype}]\"\u001b[0m\u001b[1;33m)\u001b[0m\u001b[1;33m\u001b[0m\u001b[0m\n\u001b[0m\u001b[0;32m    935\u001b[0m \u001b[1;33m\u001b[0m\u001b[0m\n\u001b[0;32m    936\u001b[0m     \u001b[1;32melif\u001b[0m \u001b[0mis_timedelta64_dtype\u001b[0m\u001b[1;33m(\u001b[0m\u001b[0marr\u001b[0m\u001b[1;33m)\u001b[0m\u001b[1;33m:\u001b[0m\u001b[1;33m\u001b[0m\u001b[0m\n",
      "\u001b[1;31mTypeError\u001b[0m: cannot astype a datetimelike from [datetime64[ns]] to [timedelta64[D]]"
     ]
    }
   ],
   "source": [
    "df = disp\n",
    "\n",
    "start_time = df.date.iloc[-1] - pd.Timedelta(seconds=5)\n",
    "df_a = df.loc[df.date >= start_time]\n",
    "y = np.array(df_a.price)\n",
    "x = np.array(df_a['date']).reshape(-1, 1)\n",
    "# x = np.linspace(0.0, float(4) - 1.0, num = 4).reshape((-1, 1))\n",
    "# y\n",
    "# slope = LinearRegression().fit(x, y).coef_\n",
    "# slope\n",
    "df_a['date'].astype('timedelta64[D]')\n",
    "# y"
   ]
  },
  {
   "cell_type": "code",
   "execution_count": 239,
   "metadata": {},
   "outputs": [
    {
     "output_type": "execute_result",
     "data": {
      "text/plain": "array([['2020-09-27T12:31:07.729697000'],\n       ['2020-09-27T12:31:09.122091000'],\n       ['2020-09-27T12:31:10.127007000'],\n       ['2020-09-27T12:31:12.690918000']], dtype='datetime64[ns]')"
     },
     "metadata": {},
     "execution_count": 239
    }
   ],
   "source": [
    "df = disp\n",
    "\n",
    "start_time = df.date.iloc[-1] - pd.Timedelta(seconds=5)\n",
    "df_a = df.loc[df.date >= start_time]\n",
    "y = np.array(df_a.price)\n",
    "x = np.array(df_a['date']).reshape(-1, 1)\n",
    "# x = np.linspace(0.0, float(4) - 1.0, num = 4).reshape((-1, 1))\n",
    "# y\n",
    "slope = LinearRegression().fit(x, y).coef_\n",
    "slope\n",
    "np.array(df_a['date']).reshape(-1, 1)\n",
    "# y"
   ]
  },
  {
   "cell_type": "code",
   "execution_count": null,
   "metadata": {},
   "outputs": [],
   "source": [
    "all_symbol_ticker = pd.DataFrame(client.get_symbol_ticker())\n",
    "all_balances = pd.DataFrame(client.get_account()['balances'])"
   ]
  },
  {
   "cell_type": "code",
   "execution_count": 93,
   "metadata": {},
   "outputs": [],
   "source": [
    "def printAsset():\n",
    "    BTC = client.get_asset_balance('BTC', recvWindow=10000)['free']\n",
    "    USDT = client.get_asset_balance('USDT', recvWindow=10000)['free']\n",
    "    print('BTC', BTC)\n",
    "    print('USDT', USDT)\n",
    "    print('PHP', float(USDT)*50.0)"
   ]
  },
  {
   "cell_type": "code",
   "execution_count": 96,
   "metadata": {
    "tags": []
   },
   "outputs": [
    {
     "output_type": "stream",
     "name": "stdout",
     "text": "BTC 0.00000000\nUSDT 46.68062465\nPHP 2334.0312325\n"
    }
   ],
   "source": [
    "printAsset()"
   ]
  },
  {
   "cell_type": "code",
   "execution_count": null,
   "metadata": {},
   "outputs": [],
   "source": [
    "symbols = ['USDT', 'BTC', 'ETH', 'XRP']\n",
    "expected_pairs = []\n",
    "for sym1 in symbols:\n",
    "    for sym2 in symbols:\n",
    "        if sym1 == sym2:\n",
    "            continue\n",
    "        expected_pairs.append(sym1 + sym2)\n",
    "pairs = [x for x in all_symbol_ticker['symbol'] if x in expected_pairs]\n",
    "pairs"
   ]
  },
  {
   "cell_type": "code",
   "execution_count": null,
   "metadata": {
    "tags": []
   },
   "outputs": [],
   "source": [
    "def show_average(min_num):\n",
    "    for pair in pairs:\n",
    "        if 'USDT' in pair:\n",
    "            data = client.get_historical_klines(pair, client.KLINE_INTERVAL_1MINUTE, str(min_num) + \" min ago UTC\")\n",
    "            disp = pd.DataFrame(data, columns = ['Open time',\n",
    "                                                'Open',\n",
    "                                                'High',\n",
    "                                                'Low',\n",
    "                                                'Close',\n",
    "                                                'Volume',\n",
    "                                                'Close time',\n",
    "                                                'Quote asset volume',\n",
    "                                                'Number of trades',\n",
    "                                                'Taker buy base asset volume',\n",
    "                                                'Taker buy quote asset volume',\n",
    "                                                'Can be ignored',])\n",
    "            y = np.array(disp['Close'].astype(float))\n",
    "            # x = np.array(disp['Close time'].astype(float)).reshape((-1, 1))\n",
    "            x = np.linspace(0.0, float(min_num) - 1.0, num = min_num).reshape((-1, 1))\n",
    "            slope = LinearRegression().fit(x, y).coef_\n",
    "            print(pair[:len('USDT')-1], slope[0], 'USDT/min')"
   ]
  },
  {
   "cell_type": "code",
   "execution_count": 99,
   "metadata": {},
   "outputs": [],
   "source": [
    "def buyAmount(coin, pair):\n",
    "    balanceBuy = float(client.get_asset_balance(coin,\n",
    "    recvWindow=10000)['free'])\n",
    "    close = float(client.get_symbol_ticker(symbol=pair)['price'])\n",
    "    maxBuy = round(balanceBuy / close * .995, 5)\n",
    "    return maxBuy\n",
    "    \n",
    "def sellAmount(coin):\n",
    "    balanceSell = float(client.get_asset_balance(coin,\n",
    "    recvWindow=10000)['free'])\n",
    "    maxSell = round(balanceSell * .995, 5)\n",
    "    return maxSell"
   ]
  },
  {
   "cell_type": "code",
   "execution_count": 121,
   "metadata": {},
   "outputs": [
    {
     "output_type": "execute_result",
     "data": {
      "text/plain": "0.00434"
     },
     "metadata": {},
     "execution_count": 121
    }
   ],
   "source": [
    "buyAmount('USDT', 'BTCUSDT')"
   ]
  },
  {
   "cell_type": "code",
   "execution_count": null,
   "metadata": {},
   "outputs": [],
   "source": [
    "sellAmount('BTC')"
   ]
  },
  {
   "cell_type": "code",
   "execution_count": null,
   "metadata": {},
   "outputs": [],
   "source": [
    "def buy(amount, pair):\n",
    "    client.create_test_order(\n",
    "    symbol=pair,\n",
    "    side=Client.SIDE_BUY,\n",
    "    type=Client.ORDER_TYPE_MARKET,\n",
    "    quantity=amount,\n",
    "    recvWindow=10000)\n",
    "    print('Buy: {}'.format(amount))\n",
    "    \n",
    "def sell(amount, pair):\n",
    "    client.create_test_order(\n",
    "    symbol=pair,\n",
    "    side=Client.SIDE_SELL,\n",
    "    type=Client.ORDER_TYPE_MARKET,\n",
    "    quantity=amount,\n",
    "    recvWindow=10000)\n",
    "    print('Sell: {}'.format(amount))"
   ]
  },
  {
   "cell_type": "code",
   "execution_count": null,
   "metadata": {},
   "outputs": [],
   "source": [
    "def buyBTC():\n",
    "    amount = buyAmount('USDT', 'BTCUSDT')\n",
    "    buy(amount, 'BTCUSDT')\n",
    "\n",
    "def sellBTC():\n",
    "    amount = sellAmount('USDT')\n",
    "    sell(amount, 'BTCUSDT')"
   ]
  },
  {
   "cell_type": "code",
   "execution_count": 108,
   "metadata": {
    "tags": []
   },
   "outputs": [
    {
     "output_type": "stream",
     "name": "stdout",
     "text": "Buy: 0.00434\n"
    }
   ],
   "source": [
    "# maxBuy = buyAmount('USDT', 'BTCUSDT')\n",
    "# buy(maxBuy, 'BTCUSDT')\n",
    "# maxSell = sellAmount('USDT')\n",
    "# sell(maxSell, 'BTCUSDT')\n",
    "buyBTC()"
   ]
  },
  {
   "cell_type": "code",
   "execution_count": 109,
   "metadata": {
    "tags": []
   },
   "outputs": [
    {
     "output_type": "stream",
     "name": "stdout",
     "text": "Sell: 46.44722\n"
    }
   ],
   "source": [
    "sellBTC()"
   ]
  },
  {
   "cell_type": "code",
   "execution_count": 106,
   "metadata": {
    "tags": []
   },
   "outputs": [
    {
     "output_type": "stream",
     "name": "stdout",
     "text": "BTC -2.349999999999453 USDT/min\nETH -0.09499999999999886 USDT/min\nXRP -1.5000000000001125e-05 USDT/min\nBTC 0.302545454545499 USDT/min\nETH 0.048242424242426876 USDT/min\nXRP -1.539393939393898e-05 USDT/min\n"
    }
   ],
   "source": [
    "show_average(3)\n",
    "show_average(10)"
   ]
  },
  {
   "cell_type": "code",
   "execution_count": 119,
   "metadata": {
    "tags": []
   },
   "outputs": [
    {
     "output_type": "stream",
     "name": "stdout",
     "text": "BTC 0.00000000\nUSDT 46.68062465\nPHP 2334.0312325\n"
    }
   ],
   "source": [
    "printAsset()"
   ]
  },
  {
   "cell_type": "code",
   "execution_count": null,
   "metadata": {},
   "outputs": [],
   "source": []
  }
 ]
}