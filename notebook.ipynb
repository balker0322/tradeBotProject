{
 "metadata": {
  "language_info": {
   "codemirror_mode": {
    "name": "ipython",
    "version": 3
   },
   "file_extension": ".py",
   "mimetype": "text/x-python",
   "name": "python",
   "nbconvert_exporter": "python",
   "pygments_lexer": "ipython3",
   "version": "3.6.5-final"
  },
  "orig_nbformat": 2,
  "kernelspec": {
   "name": "Python 3.6.5 64-bit",
   "display_name": "Python 3.6.5 64-bit",
   "metadata": {
    "interpreter": {
     "hash": "2554e3954a55011ec49b9ed6ab087f3d10e15c744110fb59f3cc88c1f24fb9b6"
    }
   }
  }
 },
 "nbformat": 4,
 "nbformat_minor": 2,
 "cells": [
  {
   "cell_type": "code",
   "execution_count": 41,
   "metadata": {
    "tags": []
   },
   "outputs": [],
   "source": [
    "from binance.client import Client\n",
    "import pandas as pd\n",
    "import json\n",
    "import numpy as np\n",
    "from sklearn.linear_model import LinearRegression"
   ]
  },
  {
   "cell_type": "code",
   "execution_count": 5,
   "metadata": {
    "tags": []
   },
   "outputs": [
    {
     "output_type": "stream",
     "name": "stdout",
     "text": "correct password\n"
    }
   ],
   "source": [
    "from security import get_keys\n",
    "binance_key = get_keys('client')\n",
    "client = Client(binance_key['api_key'], binance_key['api_secret'])"
   ]
  },
  {
   "cell_type": "code",
   "execution_count": 6,
   "metadata": {},
   "outputs": [],
   "source": [
    "all_symbol_ticker = pd.DataFrame(client.get_symbol_ticker())\n",
    "all_balances = pd.DataFrame(client.get_account()['balances'])"
   ]
  },
  {
   "cell_type": "code",
   "execution_count": 16,
   "metadata": {},
   "outputs": [
    {
     "output_type": "execute_result",
     "data": {
      "text/plain": "324358.7327868959"
     },
     "metadata": {},
     "execution_count": 16
    }
   ],
   "source": [
    "all_symbol_ticker['price'].astype(float).mean()"
   ]
  },
  {
   "cell_type": "code",
   "execution_count": 17,
   "metadata": {},
   "outputs": [],
   "source": [
    "symbols = ['USDT', 'BTC', 'ETH', 'XRP']\n",
    "expected_pairs = []\n",
    "for sym1 in symbols:\n",
    "    for sym2 in symbols:\n",
    "        if sym1 == sym2:\n",
    "            continue\n",
    "        expected_pairs.append(sym1 + sym2)\n",
    "pairs = [x for x in all_symbol_ticker['symbol'] if x in expected_pairs]"
   ]
  },
  {
   "cell_type": "code",
   "execution_count": 118,
   "metadata": {
    "tags": []
   },
   "outputs": [
    {
     "output_type": "stream",
     "name": "stdout",
     "text": "BTC -1.2458181818181346\nETH -0.02345454545454548\nXRP 3.169696969696826e-05\n"
    }
   ],
   "source": [
    "for pair in pairs:\n",
    "    if 'USDT' in pair:\n",
    "        data = client.get_historical_klines(pair, client.KLINE_INTERVAL_1MINUTE, \"10 min ago UTC\")\n",
    "        disp = pd.DataFrame(data, columns = ['Open time',\n",
    "                                             'Open',\n",
    "                                             'High',\n",
    "                                             'Low',\n",
    "                                             'Close',\n",
    "                                             'Volume',\n",
    "                                             'Close time',\n",
    "                                             'Quote asset volume',\n",
    "                                             'Number of trades',\n",
    "                                             'Taker buy base asset volume',\n",
    "                                             'Taker buy quote asset volume',\n",
    "                                             'Can be ignored',])\n",
    "        y = np.array(disp['Close'].astype(float))\n",
    "        x = np.linspace(0.0, 9.0, num=10).reshape((-1, 1))\n",
    "        slope = LinearRegression().fit(x, y).coef_\n",
    "        print(pair[:len('USDT')-1], slope[0])"
   ]
  },
  {
   "cell_type": "code",
   "execution_count": null,
   "metadata": {},
   "outputs": [],
   "source": []
  }
 ]
}