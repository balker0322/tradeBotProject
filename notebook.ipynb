{
 "metadata": {
  "language_info": {
   "codemirror_mode": {
    "name": "ipython",
    "version": 3
   },
   "file_extension": ".py",
   "mimetype": "text/x-python",
   "name": "python",
   "nbconvert_exporter": "python",
   "pygments_lexer": "ipython3",
   "version": "3.8.5-final"
  },
  "orig_nbformat": 2,
  "kernelspec": {
   "name": "Python 3.8.5 64-bit ('venv')",
   "display_name": "Python 3.8.5 64-bit ('venv')",
   "metadata": {
    "interpreter": {
     "hash": "781892a01e385ce4948e4be5f57b963bb324cf6de44663443ead429df49b1e4e"
    }
   }
  }
 },
 "nbformat": 4,
 "nbformat_minor": 2,
 "cells": [
  {
   "cell_type": "code",
   "execution_count": 16,
   "metadata": {
    "tags": []
   },
   "outputs": [],
   "source": [
    "from binance.client import Client\n",
    "import pandas as pd\n",
    "import json\n",
    "import numpy as np\n",
    "# from sklearn.linear_model import LinearRegression"
   ]
  },
  {
   "cell_type": "code",
   "execution_count": 17,
   "metadata": {
    "tags": []
   },
   "outputs": [
    {
     "output_type": "stream",
     "name": "stdout",
     "text": "correct password\n"
    }
   ],
   "source": [
    "from security import get_keys\n",
    "binance_key = get_keys('client')\n",
    "client = Client(binance_key['api_key'], binance_key['api_secret'])"
   ]
  },
  {
   "cell_type": "code",
   "execution_count": 1086,
   "metadata": {},
   "outputs": [
    {
     "output_type": "execute_result",
     "data": {
      "text/plain": "                   2         8\n0      1601240420504  10721.66\n1      1601240421476  10721.27\n2      1601240422502  10721.27\n3      1601240423329  10721.27\n4      1601240424466  10720.87\n...              ...       ...\n13004  1601253429857  10865.30\n13005  1601253430886  10865.30\n13006  1601253431843  10865.30\n13007  1601253432886  10865.47\n13008  1601253433870  10865.67\n\n[13009 rows x 2 columns]",
      "text/html": "<div>\n<style scoped>\n    .dataframe tbody tr th:only-of-type {\n        vertical-align: middle;\n    }\n\n    .dataframe tbody tr th {\n        vertical-align: top;\n    }\n\n    .dataframe thead th {\n        text-align: right;\n    }\n</style>\n<table border=\"1\" class=\"dataframe\">\n  <thead>\n    <tr style=\"text-align: right;\">\n      <th></th>\n      <th>2</th>\n      <th>8</th>\n    </tr>\n  </thead>\n  <tbody>\n    <tr>\n      <th>0</th>\n      <td>1601240420504</td>\n      <td>10721.66</td>\n    </tr>\n    <tr>\n      <th>1</th>\n      <td>1601240421476</td>\n      <td>10721.27</td>\n    </tr>\n    <tr>\n      <th>2</th>\n      <td>1601240422502</td>\n      <td>10721.27</td>\n    </tr>\n    <tr>\n      <th>3</th>\n      <td>1601240423329</td>\n      <td>10721.27</td>\n    </tr>\n    <tr>\n      <th>4</th>\n      <td>1601240424466</td>\n      <td>10720.87</td>\n    </tr>\n    <tr>\n      <th>...</th>\n      <td>...</td>\n      <td>...</td>\n    </tr>\n    <tr>\n      <th>13004</th>\n      <td>1601253429857</td>\n      <td>10865.30</td>\n    </tr>\n    <tr>\n      <th>13005</th>\n      <td>1601253430886</td>\n      <td>10865.30</td>\n    </tr>\n    <tr>\n      <th>13006</th>\n      <td>1601253431843</td>\n      <td>10865.30</td>\n    </tr>\n    <tr>\n      <th>13007</th>\n      <td>1601253432886</td>\n      <td>10865.47</td>\n    </tr>\n    <tr>\n      <th>13008</th>\n      <td>1601253433870</td>\n      <td>10865.67</td>\n    </tr>\n  </tbody>\n</table>\n<p>13009 rows × 2 columns</p>\n</div>"
     },
     "metadata": {},
     "execution_count": 1086
    }
   ],
   "source": [
    "data = pd.read_csv(\"BTCUSDT.csv\", header=None, usecols=[2,8])\n",
    "data"
   ]
  },
  {
   "source": [
    "def MA(sec):\n",
    "    data = pd.read_csv(\"BTCUSDT.csv\", header=None, usecols=[2,8])\n",
    "    start_time = pd.to_datetime(data[2], unit='ms').iloc[-1] - pd.Timedelta(seconds=sec)\n",
    "    data[2] = pd.to_datetime(data[2], unit='ms')\n",
    "    x = data.loc[data[2] >= start_time]\n",
    "    x = x[8].mean()\n",
    "    return round(x, 2)"
   ],
   "cell_type": "code",
   "metadata": {
    "tags": []
   },
   "execution_count": 506,
   "outputs": []
  },
  {
   "cell_type": "code",
   "execution_count": 548,
   "metadata": {
    "tags": []
   },
   "outputs": [
    {
     "output_type": "stream",
     "name": "stdout",
     "text": "30 sec: 10766.21\n90 sec: 10765.73\n"
    }
   ],
   "source": [
    "# print('1 sec:', MA(1))\n",
    "# print('10 sec:', MA(10))\n",
    "print('30 sec:', MA(30))\n",
    "# print('60 sec:', MA(60))\n",
    "print('90 sec:', MA(90))"
   ]
  },
  {
   "cell_type": "code",
   "execution_count": 1085,
   "metadata": {
    "tags": []
   },
   "outputs": [
    {
     "output_type": "stream",
     "name": "stdout",
     "text": "0.0481 %\n"
    }
   ],
   "source": [
    "x = MA(30) / MA(900)\n",
    "x -= 1.0\n",
    "x *= 100.0\n",
    "x = round(x, 4)\n",
    "print(x, '%')"
   ]
  },
  {
   "cell_type": "code",
   "execution_count": null,
   "metadata": {},
   "outputs": [],
   "source": []
  }
 ]
}