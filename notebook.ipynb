{
 "metadata": {
  "language_info": {
   "codemirror_mode": {
    "name": "ipython",
    "version": 3
   },
   "file_extension": ".py",
   "mimetype": "text/x-python",
   "name": "python",
   "nbconvert_exporter": "python",
   "pygments_lexer": "ipython3",
   "version": "3.8.5-final"
  },
  "orig_nbformat": 2,
  "kernelspec": {
   "name": "Python 3.8.5 64-bit ('venv': venv)",
   "display_name": "Python 3.8.5 64-bit ('venv': venv)",
   "metadata": {
    "interpreter": {
     "hash": "781892a01e385ce4948e4be5f57b963bb324cf6de44663443ead429df49b1e4e"
    }
   }
  }
 },
 "nbformat": 4,
 "nbformat_minor": 2,
 "cells": [
  {
   "cell_type": "code",
   "execution_count": 1,
   "metadata": {
    "tags": []
   },
   "outputs": [],
   "source": [
    "from binance.client import Client\n",
    "import pandas as pd\n",
    "import json"
   ]
  },
  {
   "cell_type": "code",
   "execution_count": 2,
   "metadata": {
    "tags": []
   },
   "outputs": [
    {
     "output_type": "stream",
     "name": "stdout",
     "text": "correct password\n"
    }
   ],
   "source": [
    "from security import get_keys\n",
    "binance_key = get_keys('client')\n",
    "client = Client(binance_key['api_key'], binance_key['api_secret'])"
   ]
  },
  {
   "cell_type": "code",
   "execution_count": 5,
   "metadata": {},
   "outputs": [],
   "source": [
    "all_symbol_ticker = pd.DataFrame(client.get_symbol_ticker())\n",
    "all_balances = pd.DataFrame(client.get_account()['balances'])"
   ]
  },
  {
   "cell_type": "code",
   "execution_count": 48,
   "metadata": {},
   "outputs": [
    {
     "output_type": "execute_result",
     "data": {
      "text/plain": "323746.1278514416"
     },
     "metadata": {},
     "execution_count": 48
    }
   ],
   "source": [
    "all_symbol_ticker['price'].astype(float).mean()"
   ]
  },
  {
   "cell_type": "code",
   "execution_count": null,
   "metadata": {
    "tags": [
     "outputPrepend"
    ]
   },
   "outputs": [],
   "source": [
    "for x in all_symbol_ticker:\n",
    "    symbols = ['USDT', 'BTC', 'ETH', 'XRP']\n",
    "    for sym1 in symbols:\n",
    "        pairs = 0\n",
    "        for sym2 in symbols:\n",
    "            if sym1+sym2 == x['symbol'] or sym2+sym1 == x['symbol']:\n",
    "                pairs += 1\n",
    "        print(sym1, pairs)"
   ]
  },
  {
   "cell_type": "code",
   "execution_count": 28,
   "metadata": {},
   "outputs": [
    {
     "output_type": "execute_result",
     "data": {
      "text/plain": "['ETHBTC', 'BTCUSDT', 'ETHUSDT', 'XRPBTC', 'XRPETH', 'XRPUSDT']"
     },
     "metadata": {},
     "execution_count": 28
    }
   ],
   "source": [
    "symbols = ['USDT', 'BTC', 'ETH', 'XRP']\n",
    "expected_pairs = []\n",
    "for sym1 in symbols:\n",
    "    for sym2 in symbols:\n",
    "        if sym1 == sym2:\n",
    "            continue\n",
    "        expected_pairs.append(sym1 + sym2)\n",
    "expected_pairs\n",
    "[x for x in all_symbol_ticker['symbol'] if x in expected_pairs]"
   ]
  },
  {
   "cell_type": "code",
   "execution_count": null,
   "metadata": {},
   "outputs": [],
   "source": []
  }
 ]
}