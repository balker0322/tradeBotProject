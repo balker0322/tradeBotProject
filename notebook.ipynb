{
 "metadata": {
  "language_info": {
   "codemirror_mode": {
    "name": "ipython",
    "version": 3
   },
   "file_extension": ".py",
   "mimetype": "text/x-python",
   "name": "python",
   "nbconvert_exporter": "python",
   "pygments_lexer": "ipython3",
   "version": "3.6.5-final"
  },
  "orig_nbformat": 2,
  "kernelspec": {
   "name": "Python 3.6.5 64-bit",
   "display_name": "Python 3.6.5 64-bit",
   "metadata": {
    "interpreter": {
     "hash": "2554e3954a55011ec49b9ed6ab087f3d10e15c744110fb59f3cc88c1f24fb9b6"
    }
   }
  }
 },
 "nbformat": 4,
 "nbformat_minor": 2,
 "cells": [
  {
   "cell_type": "code",
   "execution_count": 38,
   "metadata": {
    "tags": []
   },
   "outputs": [],
   "source": [
    "from binance.client import Client\n",
    "import pandas as pd\n",
    "import json\n",
    "import numpy as np\n",
    "# from sklearn.linear_model import LinearRegression"
   ]
  },
  {
   "cell_type": "code",
   "execution_count": null,
   "metadata": {},
   "outputs": [],
   "source": []
  },
  {
   "cell_type": "code",
   "execution_count": 43,
   "metadata": {
    "tags": []
   },
   "outputs": [
    {
     "output_type": "stream",
     "name": "stdout",
     "text": "correct password\n"
    }
   ],
   "source": [
    "from security import get_keys\n",
    "binance_key = get_keys('client')\n",
    "client = Client(binance_key['api_key'], binance_key['api_secret'])"
   ]
  },
  {
   "cell_type": "code",
   "execution_count": 46,
   "metadata": {},
   "outputs": [
    {
     "output_type": "execute_result",
     "data": {
      "text/plain": "0.00433"
     },
     "metadata": {},
     "execution_count": 46
    }
   ],
   "source": [
    "float(client.get_asset_balance('BTC',recvWindow=10000)['free'])"
   ]
  },
  {
   "cell_type": "code",
   "execution_count": 32,
   "metadata": {},
   "outputs": [],
   "source": [
    "def get_total_asset(coin_list, base_coin):\n",
    "    total_asset = 0.0\n",
    "    for coin_symbol in coin_list:\n",
    "        pair = coin_symbol + base_coin\n",
    "        if coin_symbol == base_coin:\n",
    "            total_asset += float(client.get_asset_balance(coin_symbol,recvWindow=10000)['free'])\n",
    "            continue\n",
    "        total_asset += float(client.get_asset_balance(coin_symbol,recvWindow=10000)['free']) * float(client.get_symbol_ticker(symbol=pair)['price'])\n",
    "    return total_asset"
   ]
  },
  {
   "cell_type": "code",
   "execution_count": 45,
   "metadata": {},
   "outputs": [
    {
     "output_type": "execute_result",
     "data": {
      "text/plain": "47.15333161"
     },
     "metadata": {},
     "execution_count": 45
    }
   ],
   "source": [
    "get_total_asset(['BTC', 'USDT'], 'USDT')"
   ]
  },
  {
   "cell_type": "code",
   "execution_count": null,
   "metadata": {},
   "outputs": [],
   "source": [
    "data = pd.read_csv(\"BTCUSDT.csv\", header=None, usecols=[2,8])\n",
    "data = data.rename(columns={2: \"date\", 8: \"price\"})\n",
    "data.date = pd.to_datetime(data.date, unit='ms')\n",
    "data"
   ]
  },
  {
   "cell_type": "code",
   "execution_count": null,
   "metadata": {},
   "outputs": [],
   "source": [
    "csvdata = pd.read_csv(\"BTCUSDT.csv\", header=None, usecols=[2,8])\n",
    "csvdata = csvdata.rename(columns={2: \"date\", 8: \"price\"})\n",
    "csvdata.date = pd.to_datetime(csvdata.date, unit='ms')"
   ]
  },
  {
   "cell_type": "code",
   "execution_count": null,
   "metadata": {},
   "outputs": [],
   "source": [
    "price = {'BTCUSDT': csvdata, 'error':False}"
   ]
  },
  {
   "source": [
    "def MA(sec):\n",
    "\tdf = price['BTCUSDT']\n",
    "\tstart_time = df.date.iloc[-1] - pd.Timedelta(seconds=sec)\n",
    "\tdf = df.loc[df.date >= start_time]\n",
    "\treturn df.price.mean()"
   ],
   "cell_type": "code",
   "metadata": {
    "tags": []
   },
   "execution_count": null,
   "outputs": []
  },
  {
   "cell_type": "code",
   "execution_count": null,
   "metadata": {
    "tags": []
   },
   "outputs": [],
   "source": [
    "for x in range(10):\n",
    "    print(MA(x*30))"
   ]
  },
  {
   "cell_type": "code",
   "execution_count": null,
   "metadata": {
    "tags": []
   },
   "outputs": [],
   "source": [
    "x = MA(30) / MA(900)\n",
    "x -= 1.0\n",
    "x *= 100.0\n",
    "print(x, '%')"
   ]
  },
  {
   "cell_type": "code",
   "execution_count": null,
   "metadata": {},
   "outputs": [],
   "source": [
    "def buyAmount(coin, pair):\n",
    "    balanceBuy = float(client.get_asset_balance(coin,\n",
    "    recvWindow=10000)['free'])\n",
    "    close = float(client.get_symbol_ticker(symbol=pair)['price'])\n",
    "    maxBuy = round(balanceBuy / close * .995, 5)\n",
    "    return maxBuy\n",
    "    \n",
    "def sellAmount(coin):\n",
    "    balanceSell = float(client.get_asset_balance(coin,\n",
    "    recvWindow=10000)['free'])\n",
    "    maxSell = round(balanceSell * .995, 5)\n",
    "    return maxSell"
   ]
  },
  {
   "cell_type": "code",
   "execution_count": null,
   "metadata": {},
   "outputs": [],
   "source": [
    "buyAmount('USDT', 'BTCUSDT')"
   ]
  },
  {
   "cell_type": "code",
   "execution_count": null,
   "metadata": {},
   "outputs": [],
   "source": [
    "sellAmount('BTC')"
   ]
  },
  {
   "cell_type": "code",
   "execution_count": null,
   "metadata": {},
   "outputs": [],
   "source": [
    "maxbuy = buyAmount('USDT', 'BTCUSDT')\n",
    "client.create_test_order(symbol='BTCUSDT', side='BUY', type='MARKET', quantity=0.00434)"
   ]
  },
  {
   "cell_type": "code",
   "execution_count": null,
   "metadata": {},
   "outputs": [],
   "source": [
    "maxsell = sellAmount('BTC')\n",
    "client.create_test_order(symbol='BTCUSDT', side='SELL', type='MARKET', quantity=0.00434)"
   ]
  },
  {
   "cell_type": "code",
   "execution_count": null,
   "metadata": {},
   "outputs": [],
   "source": [
    "maxbuy = buyAmount('USDT', 'BTCUSDT')\n",
    "client.create_order(symbol='BTCUSDT', side='BUY', type='MARKET', quantity=0.00433)"
   ]
  },
  {
   "cell_type": "code",
   "execution_count": null,
   "metadata": {},
   "outputs": [],
   "source": [
    "maxsell = sellAmount('BTC')\n",
    "client.create_order(symbol='BTCUSDT', side='SELL', type='MARKET', quantity=0.00433)"
   ]
  },
  {
   "cell_type": "code",
   "execution_count": null,
   "metadata": {},
   "outputs": [],
   "source": []
  }
 ]
}